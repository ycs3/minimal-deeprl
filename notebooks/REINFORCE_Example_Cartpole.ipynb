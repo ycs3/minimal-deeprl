{
 "cells": [
  {
   "cell_type": "markdown",
   "metadata": {},
   "source": [
    "## REINFORCE Example (Cartpole)\n",
    "\n",
    "Applied from Algorithm 2.1 in \"Foundations of Deep Reinforcement Learning\""
   ]
  },
  {
   "cell_type": "code",
   "execution_count": null,
   "metadata": {},
   "outputs": [],
   "source": [
    "import sys\n",
    "import numpy as np\n",
    "import gym\n",
    "import torch\n",
    "import torch.nn as nn\n",
    "import torch.optim as optim\n",
    "from torch.distributions import Categorical"
   ]
  },
  {
   "cell_type": "markdown",
   "metadata": {},
   "source": [
    "### Policy Calculation"
   ]
  },
  {
   "cell_type": "code",
   "execution_count": null,
   "metadata": {},
   "outputs": [],
   "source": [
    "class PolicyNetwork(nn.Module):\n",
    "    def __init__(self, state_dim, h_dim, action_dim):\n",
    "        super(PolicyNetwork, self).__init__()\n",
    "        self.policy_nn = nn.Sequential(\n",
    "            nn.Linear(state_dim, h_dim),\n",
    "            nn.ReLU(),\n",
    "            nn.Linear(h_dim, action_dim)\n",
    "        )\n",
    "\n",
    "    def forward(self, state):\n",
    "        a_logits = self.policy_nn(state)\n",
    "        return a_logits\n",
    "\n",
    "def sample_action(policy_nn, state):\n",
    "    a_logits = policy_nn(torch.tensor(state, dtype=torch.float32))\n",
    "    a_dist = Categorical(logits=a_logits)\n",
    "    action = a_dist.sample()\n",
    "    a_log_prob = a_dist.log_prob(action) # saved for backpropagation\n",
    "    return action.item(), a_log_prob"
   ]
  },
  {
   "cell_type": "markdown",
   "metadata": {},
   "source": [
    "### Value Calculation"
   ]
  },
  {
   "cell_type": "code",
   "execution_count": null,
   "metadata": {},
   "outputs": [],
   "source": [
    "def mc_cumulative_discounted_reward(trajectory, gamma=.99):\n",
    "    s, a, a_lp, r, s_next, a_next, d = trajectory\n",
    "    c = 0\n",
    "    cdr = []\n",
    "    for i in reversed(range(len(r))):\n",
    "        c = r[i] + gamma * (1 - d[i]) * c\n",
    "        cdr.append(c)\n",
    "    cdr = np.array(list(reversed(cdr)))\n",
    "    return s, a, a_lp, r, s_next, a_next, d, cdr"
   ]
  },
  {
   "cell_type": "markdown",
   "metadata": {},
   "source": [
    "### Trajectory Generation"
   ]
  },
  {
   "cell_type": "code",
   "execution_count": null,
   "metadata": {},
   "outputs": [],
   "source": [
    "def sample_trajectory(env, policy_fn, max_steps=200, break_when_done=True):\n",
    "    s, _ = env.reset()\n",
    "\n",
    "    break_next = False\n",
    "    gym_trajectory = []\n",
    "    for t in range(max_steps):\n",
    "        a, a_logprob = policy_fn(s)\n",
    "        s_next, r, done, _, _ = env.step(a)\n",
    "        d = int(done)\n",
    "        gym_trajectory.append([list(s), a, a_logprob, r, d])\n",
    "        if break_next and break_when_done:\n",
    "            break\n",
    "        if done:\n",
    "            break_next = True\n",
    "        s = s_next\n",
    "\n",
    "    sarsa_trajectory = []\n",
    "    for t in range(1, len(gym_trajectory)):\n",
    "        s, a, a_logprob, r, d = gym_trajectory[t-1]\n",
    "        s_next, a_next, _, _, _ = gym_trajectory[t]\n",
    "        sarsa_trajectory.append([\n",
    "            s, a, a_logprob, r, s_next, a_next, d\n",
    "        ])\n",
    "\n",
    "    s, a, a_logprob, r, s_next, a_next, d = list(zip(*sarsa_trajectory))\n",
    "    trajectory = [\n",
    "        np.array(s), np.array(a),\n",
    "        None if a_logprob[0] is None else torch.stack(a_logprob),\n",
    "        np.array(r),\n",
    "        np.array(s_next), np.array(a_next),\n",
    "        np.array(d)\n",
    "    ]\n",
    "    return trajectory"
   ]
  },
  {
   "cell_type": "markdown",
   "metadata": {},
   "source": [
    "### Training"
   ]
  },
  {
   "cell_type": "code",
   "execution_count": null,
   "metadata": {},
   "outputs": [],
   "source": [
    "class REINFORCE:\n",
    "    def __init__(self, state_dim, action_dim, h_dim=64, lr_alpha=.01):\n",
    "        self.p_network = PolicyNetwork(state_dim, h_dim, action_dim)\n",
    "        self.optimizer = optim.Adam(self.p_network.parameters(), lr=lr_alpha)\n",
    "        \n",
    "    def train(self, batch):\n",
    "        s, a, a_logprob, r, s_next, a_next, d, cdr = batch\n",
    "        loss = -torch.sum(torch.tensor(cdr) * a_logprob)\n",
    "        \n",
    "        self.optimizer.zero_grad()\n",
    "        loss.backward()\n",
    "        self.optimizer.step()\n",
    "        \n",
    "        return loss.item()"
   ]
  },
  {
   "cell_type": "code",
   "execution_count": null,
   "metadata": {},
   "outputs": [],
   "source": [
    "reinforce = REINFORCE(state_dim=4, action_dim=2)\n",
    "\n",
    "policy_fn = lambda state: sample_action(reinforce.p_network, state)\n",
    "value_fn = lambda trajectory: mc_cumulative_discounted_reward(trajectory)\n",
    "\n",
    "env = gym.make(\"CartPole-v0\")\n",
    "count = 0\n",
    "for episode in range(1, 1001):\n",
    "    trajectory = sample_trajectory(env, policy_fn)    \n",
    "    trajectory = value_fn(trajectory)\n",
    "    loss = reinforce.train(trajectory)\n",
    "    \n",
    "    trajectory_len = len(trajectory[0])\n",
    "    print(\"%5d %5d %5d %7.2f\" % (episode, trajectory_len, count, loss))\n",
    "\n",
    "    \n",
    "    if trajectory_len == 199:\n",
    "        count += 1\n",
    "        if count > 5:\n",
    "            break"
   ]
  },
  {
   "cell_type": "markdown",
   "metadata": {},
   "source": [
    "### Cartpole Visualization"
   ]
  },
  {
   "cell_type": "code",
   "execution_count": null,
   "metadata": {},
   "outputs": [],
   "source": [
    "%env HV_DOC_HTML=true # required for colab\n",
    "import holoviews as hv\n",
    "\n",
    "def cartpole_visualize(states, step=4):\n",
    "    hv.extension(\"bokeh\") # required for colab\n",
    "    states = states[::step]\n",
    "    def cartpole2xy(states):\n",
    "        xy = []\n",
    "        positions, angles = states[:,0], states[:,2]\n",
    "        for i in range(len(positions)):\n",
    "            position, angle = positions[i], angles[i]\n",
    "            x0, y0 = position, 0\n",
    "            x1, y1 = position+np.sin(angle), np.cos(angle)\n",
    "            xy.append([(x0, y0), (x1, y1)])\n",
    "        return xy\n",
    "    \n",
    "    def cartpole_draw(curve):\n",
    "        baseline = [(-2.4, 0), (2.4, 0)]\n",
    "        return hv.Overlay([\n",
    "            hv.Curve(baseline), hv.Curve(curve)\n",
    "        ]).redim(\n",
    "            x=hv.Dimension(\"x\", range=(-2.4, 2.4)),\n",
    "            y=hv.Dimension(\"y\", range=(-.05, 1.05))\n",
    "        ).opts(height=150, width=400)\n",
    "    \n",
    "    charts = []\n",
    "    xy = cartpole2xy(states)\n",
    "    for i in range(len(xy)):\n",
    "        _ = cartpole_draw(xy[i])\n",
    "        charts.append(_)\n",
    "        \n",
    "    holomap = hv.HoloMap({i*step:charts[i] for i in range(len(charts))})\n",
    "    return holomap\n",
    "\n",
    "cartpole_visualize(trajectory[0])"
   ]
  },
  {
   "cell_type": "code",
   "execution_count": null,
   "metadata": {},
   "outputs": [],
   "source": []
  }
 ],
 "metadata": {
  "kernelspec": {
   "display_name": "Python 3",
   "language": "python",
   "name": "python3"
  },
  "language_info": {
   "codemirror_mode": {
    "name": "ipython",
    "version": 3
   },
   "file_extension": ".py",
   "mimetype": "text/x-python",
   "name": "python",
   "nbconvert_exporter": "python",
   "pygments_lexer": "ipython3",
   "version": "3.9.12"
  }
 },
 "nbformat": 4,
 "nbformat_minor": 4
}
