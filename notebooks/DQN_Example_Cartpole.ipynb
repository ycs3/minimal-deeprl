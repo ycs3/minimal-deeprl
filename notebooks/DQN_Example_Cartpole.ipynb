{
 "cells": [
  {
   "cell_type": "markdown",
   "metadata": {},
   "source": [
    "## DQN Example (Cartpole)\n",
    "\n",
    "Applied from Algorithm 4.1 in \"Foundations of Deep Reinforcement Learning\" (without experience replay)"
   ]
  },
  {
   "cell_type": "code",
   "execution_count": null,
   "metadata": {},
   "outputs": [],
   "source": [
    "import sys\n",
    "import numpy as np\n",
    "import gym\n",
    "import torch\n",
    "import torch.nn as nn\n",
    "import torch.optim as optim\n",
    "import torch.nn.functional as F"
   ]
  },
  {
   "cell_type": "markdown",
   "metadata": {},
   "source": [
    "### Policy Calculation"
   ]
  },
  {
   "cell_type": "code",
   "execution_count": null,
   "metadata": {},
   "outputs": [],
   "source": [
    "def epsilon_greedy_policy(env, q_network, epsilon, state):\n",
    "    if np.random.rand() > epsilon:\n",
    "        with torch.no_grad():\n",
    "            q_values = q_network(torch.tensor(state, dtype=torch.float32))\n",
    "            action = np.argmax(q_values.numpy())\n",
    "    else:\n",
    "        action = np.random.choice(env.action_space.n)\n",
    "    return action, None"
   ]
  },
  {
   "cell_type": "markdown",
   "metadata": {},
   "source": [
    "### Value Calculation"
   ]
  },
  {
   "cell_type": "code",
   "execution_count": null,
   "metadata": {},
   "outputs": [],
   "source": [
    "class QNetwork(nn.Module):\n",
    "    def __init__(self, state_dim, h_dim, action_dim):\n",
    "        super(QNetwork, self).__init__()\n",
    "        self.q_nn = nn.Sequential(\n",
    "            nn.Linear(state_dim, h_dim),\n",
    "            nn.ReLU(),\n",
    "            nn.Linear(h_dim, action_dim)\n",
    "        )\n",
    "        \n",
    "    def forward(self, state):\n",
    "        q_values = self.q_nn(state)\n",
    "        return q_values\n",
    "    \n",
    "def dqn_cumulative_discounted_reward(trajectory, q_network, gamma=.99):\n",
    "    s, a, _, r, s_next, _, d = trajectory\n",
    "\n",
    "    cdr = []\n",
    "    if gamma is None:\n",
    "        gamma = 0.99\n",
    "    with torch.no_grad():\n",
    "        q_values_ = q_network(\n",
    "            torch.tensor(s_next, dtype=torch.float32)\n",
    "        )\n",
    "        a_max = torch.argmax(q_values_, 1)\n",
    "        q_values = q_values_.gather(-1, a_max.unsqueeze(-1)).squeeze(-1)\n",
    "        for i in reversed(range(len(r))):\n",
    "            c = r[i] + gamma * (1 - d[i]) * q_values[i].item()\n",
    "            cdr.append(c)\n",
    "    cdr = list(reversed(cdr))\n",
    "    return s, a, None, r, s_next, None, d, cdr"
   ]
  },
  {
   "cell_type": "markdown",
   "metadata": {},
   "source": [
    "### Trajectory Generation"
   ]
  },
  {
   "cell_type": "code",
   "execution_count": null,
   "metadata": {},
   "outputs": [],
   "source": [
    "def sample_trajectory(env, policy_fn, max_steps=200, break_when_done=True):\n",
    "    s, _ = env.reset()\n",
    "\n",
    "    break_next = False\n",
    "    gym_trajectory = []\n",
    "    for t in range(max_steps):\n",
    "        a, a_logprob = policy_fn(s)\n",
    "        s_next, r, done, _, _ = env.step(a)\n",
    "        d = int(done)\n",
    "        gym_trajectory.append([list(s), a, a_logprob, r, d])\n",
    "        if break_next and break_when_done:\n",
    "            break\n",
    "        if done:\n",
    "            break_next = True\n",
    "        s = s_next\n",
    "\n",
    "    sarsa_trajectory = []\n",
    "    for t in range(1, len(gym_trajectory)):\n",
    "        s, a, a_logprob, r, d = gym_trajectory[t-1]\n",
    "        s_next, a_next, _, _, _ = gym_trajectory[t]\n",
    "        sarsa_trajectory.append([\n",
    "            s, a, a_logprob, r, s_next, a_next, d\n",
    "        ])\n",
    "\n",
    "    s, a, a_logprob, r, s_next, a_next, d = list(zip(*sarsa_trajectory))\n",
    "    trajectory = [\n",
    "        np.array(s), np.array(a),\n",
    "        None if a_logprob[0] is None else torch.stack(a_logprob),\n",
    "        np.array(r),\n",
    "        np.array(s_next), np.array(a_next),\n",
    "        np.array(d)\n",
    "    ]\n",
    "    return trajectory"
   ]
  },
  {
   "cell_type": "markdown",
   "metadata": {},
   "source": [
    "### Training"
   ]
  },
  {
   "cell_type": "code",
   "execution_count": null,
   "metadata": {},
   "outputs": [],
   "source": [
    "class DQN:\n",
    "    def __init__(self, state_dim, action_dim, h_dim=64, lr_alpha=.01):\n",
    "        self.q_network = QNetwork(state_dim, h_dim, action_dim)\n",
    "        self.optimizer = optim.Adam(self.q_network.parameters(), lr=lr_alpha)\n",
    "        \n",
    "    def train(self, batch):\n",
    "        s, a, _, r, s_next, _, d, cdr = batch\n",
    "        \n",
    "        q_preds_ = self.q_network(\n",
    "            torch.tensor(s, dtype=torch.float32)\n",
    "        )\n",
    "        a_max = torch.argmax(q_preds_, 1)\n",
    "        q_preds = q_preds_.gather(-1, a_max.unsqueeze(-1)).squeeze(-1)\n",
    "        loss = F.mse_loss(q_preds, torch.tensor(cdr, dtype=torch.float32))\n",
    "        \n",
    "        self.optimizer.zero_grad()\n",
    "        loss.backward()\n",
    "        self.optimizer.step()\n",
    "        \n",
    "        return loss.item()"
   ]
  },
  {
   "cell_type": "code",
   "execution_count": null,
   "metadata": {},
   "outputs": [],
   "source": [
    "dqn = DQN(state_dim=4, action_dim=2)\n",
    "\n",
    "env = gym.make(\"CartPole-v0\")\n",
    "epsilon, epsilon_decay = 1., .999\n",
    "count = 0\n",
    "for episode in range(1, 1001):\n",
    "    policy_fn = lambda state: epsilon_greedy_policy(env, dqn.q_network, epsilon, state)\n",
    "    value_fn = lambda trajectory: dqn_cumulative_discounted_reward(trajectory, dqn.q_network)\n",
    "\n",
    "    trajectory = sample_trajectory(env, policy_fn)\n",
    "    trajectory = value_fn(trajectory)\n",
    "    loss = dqn.train(trajectory)\n",
    "    \n",
    "    trajectory_len = len(trajectory[0])\n",
    "    print(\"%5d %5d %5d %7.2f,  epsilon: %5.3f\" % (episode, trajectory_len, count, loss, epsilon))\n",
    "    \n",
    "    if trajectory_len == 199:\n",
    "        count += 1\n",
    "        if count > 5:\n",
    "            break\n",
    "    epsilon *= epsilon_decay"
   ]
  },
  {
   "cell_type": "markdown",
   "metadata": {},
   "source": [
    "### Cartpole Visualization"
   ]
  },
  {
   "cell_type": "code",
   "execution_count": null,
   "metadata": {},
   "outputs": [],
   "source": [
    "%env HV_DOC_HTML=true # required for colab\n",
    "import holoviews as hv\n",
    "\n",
    "def cartpole_visualize(states, step=4):\n",
    "    hv.extension(\"bokeh\") # required for colab\n",
    "    states = states[::step]\n",
    "    def cartpole2xy(states):\n",
    "        xy = []\n",
    "        positions, angles = states[:,0], states[:,2]\n",
    "        for i in range(len(positions)):\n",
    "            position, angle = positions[i], angles[i]\n",
    "            x0, y0 = position, 0\n",
    "            x1, y1 = position+np.sin(angle), np.cos(angle)\n",
    "            xy.append([(x0, y0), (x1, y1)])\n",
    "        return xy\n",
    "    \n",
    "    def cartpole_draw(curve):\n",
    "        baseline = [(-2.4, 0), (2.4, 0)]\n",
    "        return hv.Overlay([\n",
    "            hv.Curve(baseline), hv.Curve(curve)\n",
    "        ]).redim(\n",
    "            x=hv.Dimension(\"x\", range=(-2.4, 2.4)),\n",
    "            y=hv.Dimension(\"y\", range=(-.05, 1.05))\n",
    "        ).opts(height=150, width=400)\n",
    "    \n",
    "    charts = []\n",
    "    xy = cartpole2xy(states)\n",
    "    for i in range(len(xy)):\n",
    "        _ = cartpole_draw(xy[i])\n",
    "        charts.append(_)\n",
    "        \n",
    "    holomap = hv.HoloMap({i*step:charts[i] for i in range(len(charts))})\n",
    "    return holomap\n",
    "\n",
    "cartpole_visualize(trajectory[0])"
   ]
  },
  {
   "cell_type": "code",
   "execution_count": null,
   "metadata": {},
   "outputs": [],
   "source": []
  }
 ],
 "metadata": {
  "kernelspec": {
   "display_name": "Python 3",
   "language": "python",
   "name": "python3"
  },
  "language_info": {
   "codemirror_mode": {
    "name": "ipython",
    "version": 3
   },
   "file_extension": ".py",
   "mimetype": "text/x-python",
   "name": "python",
   "nbconvert_exporter": "python",
   "pygments_lexer": "ipython3",
   "version": "3.9.12"
  }
 },
 "nbformat": 4,
 "nbformat_minor": 4
}
